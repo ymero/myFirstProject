{
 "metadata": {
  "name": "",
  "signature": "sha256:27c20be10fadb6e254c95fd96ab6f41902150b678f680a538b8e23fb384b81a8"
 },
 "nbformat": 3,
 "nbformat_minor": 0,
 "worksheets": [
  {
   "cells": [
    {
     "cell_type": "markdown",
     "metadata": {},
     "source": [
      "\u534f\u7a0b\uff0c\u53c8\u79f0\u5fae\u7ebf\u7a0b\uff0c\u7ea4\u7a0b\u3002\u82f1\u6587\u540dCoroutine\u3002\n",
      "=================================\n",
      "Source: http://www.liaoxuefeng.com/wiki/001374738125095c955c1e6d8bb493182103fac9270762a000/0013868328689835ecd883d910145dfa8227b539725e5ed000\n",
      "\n",
      "\n",
      "\n",
      "Python yield \u4f7f\u7528\u6d45\u6790\n",
      "===================\n",
      "Source: http://www.ibm.com/developerworks/cn/opensource/os-cn-python-yield/\n"
     ]
    },
    {
     "cell_type": "code",
     "collapsed": false,
     "input": [
      "%run coroutine.py"
     ],
     "language": "python",
     "metadata": {},
     "outputs": [
      {
       "output_type": "stream",
       "stream": "stdout",
       "text": [
        "is consumer() a generatorfunction True\n",
        "[PRODUCER] Producing 1...\n",
        "[CONSUMER] Consuming 1...\n",
        "[PRODUCER] Consumer return: 200 OK"
       ]
      },
      {
       "output_type": "stream",
       "stream": "stdout",
       "text": [
        "\n",
        "[PRODUCER] Producing 2...\n",
        "[CONSUMER] Consuming 2...\n",
        "[PRODUCER] Consumer return: 200 OK"
       ]
      },
      {
       "output_type": "stream",
       "stream": "stdout",
       "text": [
        "\n",
        "[PRODUCER] Producing 3...\n",
        "[CONSUMER] Consuming 3...\n",
        "[PRODUCER] Consumer return: 200 OK"
       ]
      },
      {
       "output_type": "stream",
       "stream": "stdout",
       "text": [
        "\n",
        "[PRODUCER] Producing 4...\n",
        "[CONSUMER] Consuming 4...\n",
        "[PRODUCER] Consumer return: 200 OK"
       ]
      },
      {
       "output_type": "stream",
       "stream": "stdout",
       "text": [
        "\n",
        "[PRODUCER] Producing 5...\n",
        "[CONSUMER] Consuming 5...\n",
        "[PRODUCER] Consumer return: 200 OK"
       ]
      },
      {
       "output_type": "stream",
       "stream": "stdout",
       "text": [
        "\n"
       ]
      }
     ],
     "prompt_number": 1
    }
   ],
   "metadata": {}
  }
 ]
}